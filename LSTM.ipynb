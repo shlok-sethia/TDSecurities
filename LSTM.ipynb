{
 "cells": [
  {
   "cell_type": "code",
   "execution_count": 1,
   "id": "ee458255",
   "metadata": {},
   "outputs": [],
   "source": [
    "#!pip install tensorflow"
   ]
  },
  {
   "cell_type": "code",
   "execution_count": 2,
   "id": "c8c61f13",
   "metadata": {},
   "outputs": [],
   "source": [
    "import pandas as pd\n",
    "import numpy as np\n",
    "\n",
    "import matplotlib.pyplot as plt\n",
    "import seaborn as sns\n",
    "sns.set_style('whitegrid')\n",
    "plt.style.use(\"fivethirtyeight\")\n",
    "%matplotlib inline\n",
    "\n",
    "# For reading stock data from yahoo\n",
    "from pandas_datareader.data import DataReader\n",
    "\n",
    "# For time stamps\n",
    "from datetime import datetime\n",
    "\n",
    "import yfinance as yf\n",
    "import pandas_datareader.data as pdr"
   ]
  },
  {
   "cell_type": "code",
   "execution_count": 3,
   "id": "a6fd591b",
   "metadata": {},
   "outputs": [
    {
     "name": "stdout",
     "output_type": "stream",
     "text": [
      "[*********************100%***********************]  1 of 1 completed\n"
     ]
    },
    {
     "data": {
      "text/html": [
       "<div>\n",
       "<style scoped>\n",
       "    .dataframe tbody tr th:only-of-type {\n",
       "        vertical-align: middle;\n",
       "    }\n",
       "\n",
       "    .dataframe tbody tr th {\n",
       "        vertical-align: top;\n",
       "    }\n",
       "\n",
       "    .dataframe thead th {\n",
       "        text-align: right;\n",
       "    }\n",
       "</style>\n",
       "<table border=\"1\" class=\"dataframe\">\n",
       "  <thead>\n",
       "    <tr style=\"text-align: right;\">\n",
       "      <th></th>\n",
       "      <th>Open</th>\n",
       "      <th>High</th>\n",
       "      <th>Low</th>\n",
       "      <th>Close</th>\n",
       "      <th>Adj Close</th>\n",
       "      <th>Volume</th>\n",
       "    </tr>\n",
       "    <tr>\n",
       "      <th>Date</th>\n",
       "      <th></th>\n",
       "      <th></th>\n",
       "      <th></th>\n",
       "      <th></th>\n",
       "      <th></th>\n",
       "      <th></th>\n",
       "    </tr>\n",
       "  </thead>\n",
       "  <tbody>\n",
       "    <tr>\n",
       "      <th>2020-04-13</th>\n",
       "      <td>67.077499</td>\n",
       "      <td>68.425003</td>\n",
       "      <td>66.457497</td>\n",
       "      <td>68.312500</td>\n",
       "      <td>67.472389</td>\n",
       "      <td>131022800</td>\n",
       "    </tr>\n",
       "    <tr>\n",
       "      <th>2020-04-14</th>\n",
       "      <td>70.000000</td>\n",
       "      <td>72.062500</td>\n",
       "      <td>69.512497</td>\n",
       "      <td>71.762497</td>\n",
       "      <td>70.879944</td>\n",
       "      <td>194994800</td>\n",
       "    </tr>\n",
       "    <tr>\n",
       "      <th>2020-04-15</th>\n",
       "      <td>70.599998</td>\n",
       "      <td>71.582497</td>\n",
       "      <td>70.157501</td>\n",
       "      <td>71.107498</td>\n",
       "      <td>70.233002</td>\n",
       "      <td>131154400</td>\n",
       "    </tr>\n",
       "    <tr>\n",
       "      <th>2020-04-16</th>\n",
       "      <td>71.845001</td>\n",
       "      <td>72.050003</td>\n",
       "      <td>70.587502</td>\n",
       "      <td>71.672501</td>\n",
       "      <td>70.791061</td>\n",
       "      <td>157125200</td>\n",
       "    </tr>\n",
       "    <tr>\n",
       "      <th>2020-04-17</th>\n",
       "      <td>71.172501</td>\n",
       "      <td>71.737503</td>\n",
       "      <td>69.214996</td>\n",
       "      <td>70.699997</td>\n",
       "      <td>69.830521</td>\n",
       "      <td>215250000</td>\n",
       "    </tr>\n",
       "    <tr>\n",
       "      <th>...</th>\n",
       "      <td>...</td>\n",
       "      <td>...</td>\n",
       "      <td>...</td>\n",
       "      <td>...</td>\n",
       "      <td>...</td>\n",
       "      <td>...</td>\n",
       "    </tr>\n",
       "    <tr>\n",
       "      <th>2021-11-23</th>\n",
       "      <td>161.119995</td>\n",
       "      <td>161.800003</td>\n",
       "      <td>159.059998</td>\n",
       "      <td>161.410004</td>\n",
       "      <td>161.410004</td>\n",
       "      <td>96041900</td>\n",
       "    </tr>\n",
       "    <tr>\n",
       "      <th>2021-11-24</th>\n",
       "      <td>160.750000</td>\n",
       "      <td>162.139999</td>\n",
       "      <td>159.639999</td>\n",
       "      <td>161.940002</td>\n",
       "      <td>161.940002</td>\n",
       "      <td>69463600</td>\n",
       "    </tr>\n",
       "    <tr>\n",
       "      <th>2021-11-26</th>\n",
       "      <td>159.570007</td>\n",
       "      <td>160.449997</td>\n",
       "      <td>156.360001</td>\n",
       "      <td>156.809998</td>\n",
       "      <td>156.809998</td>\n",
       "      <td>76959800</td>\n",
       "    </tr>\n",
       "    <tr>\n",
       "      <th>2021-11-29</th>\n",
       "      <td>159.369995</td>\n",
       "      <td>161.190002</td>\n",
       "      <td>158.789993</td>\n",
       "      <td>160.240005</td>\n",
       "      <td>160.240005</td>\n",
       "      <td>88748200</td>\n",
       "    </tr>\n",
       "    <tr>\n",
       "      <th>2021-11-30</th>\n",
       "      <td>159.990005</td>\n",
       "      <td>165.520004</td>\n",
       "      <td>159.919998</td>\n",
       "      <td>165.300003</td>\n",
       "      <td>165.300003</td>\n",
       "      <td>174048100</td>\n",
       "    </tr>\n",
       "  </tbody>\n",
       "</table>\n",
       "<p>414 rows × 6 columns</p>\n",
       "</div>"
      ],
      "text/plain": [
       "                  Open        High         Low       Close   Adj Close  \\\n",
       "Date                                                                     \n",
       "2020-04-13   67.077499   68.425003   66.457497   68.312500   67.472389   \n",
       "2020-04-14   70.000000   72.062500   69.512497   71.762497   70.879944   \n",
       "2020-04-15   70.599998   71.582497   70.157501   71.107498   70.233002   \n",
       "2020-04-16   71.845001   72.050003   70.587502   71.672501   70.791061   \n",
       "2020-04-17   71.172501   71.737503   69.214996   70.699997   69.830521   \n",
       "...                ...         ...         ...         ...         ...   \n",
       "2021-11-23  161.119995  161.800003  159.059998  161.410004  161.410004   \n",
       "2021-11-24  160.750000  162.139999  159.639999  161.940002  161.940002   \n",
       "2021-11-26  159.570007  160.449997  156.360001  156.809998  156.809998   \n",
       "2021-11-29  159.369995  161.190002  158.789993  160.240005  160.240005   \n",
       "2021-11-30  159.990005  165.520004  159.919998  165.300003  165.300003   \n",
       "\n",
       "               Volume  \n",
       "Date                   \n",
       "2020-04-13  131022800  \n",
       "2020-04-14  194994800  \n",
       "2020-04-15  131154400  \n",
       "2020-04-16  157125200  \n",
       "2020-04-17  215250000  \n",
       "...               ...  \n",
       "2021-11-23   96041900  \n",
       "2021-11-24   69463600  \n",
       "2021-11-26   76959800  \n",
       "2021-11-29   88748200  \n",
       "2021-11-30  174048100  \n",
       "\n",
       "[414 rows x 6 columns]"
      ]
     },
     "execution_count": 3,
     "metadata": {},
     "output_type": "execute_result"
    }
   ],
   "source": [
    "tech_list = ['AAPL']\n",
    "\n",
    "yf.pdr_override()\n",
    "\n",
    "start_date = '10-04-2020'\n",
    "end_date = '1-12-2021'\n",
    "\n",
    "start = datetime.strptime(start_date, '%d-%m-%Y')\n",
    "end = datetime.strptime(end_date, '%d-%m-%Y')\n",
    "\n",
    "for stock in tech_list:   \n",
    "    # Set DataFrame as the Stock Ticker\n",
    "    globals()[stock] = pdr.get_data_yahoo('AAPL', data_source='yahoo', start=start, end=end)\n",
    "    \n",
    "company_list = [AAPL]\n",
    "company_name = [\"APPLE\"]\n",
    "\n",
    "for company, com_name in zip(company_list, company_name):\n",
    "    company[\"company_name\"] = com_name\n",
    "    \n",
    "df1 = pd.concat(company_list, axis=0)\n",
    "df1 = df1.drop('company_name', 1)\n",
    "df1"
   ]
  },
  {
   "cell_type": "code",
   "execution_count": 4,
   "id": "b3af3be1",
   "metadata": {},
   "outputs": [
    {
     "data": {
      "image/png": "[encoded data removed]",
      "text/plain": [
       "<Figure size 1152x432 with 1 Axes>"
      ]
     },
     "metadata": {
      "needs_background": "light"
     },
     "output_type": "display_data"
    }
   ],
   "source": [
    "plt.figure(figsize=(16,6))\n",
    "plt.title('AAPL Close Price History')\n",
    "plt.plot(df1['Close'])\n",
    "plt.xlabel('Date', fontsize=18)\n",
    "plt.ylabel('Close Price USD ($)', fontsize=18)\n",
    "plt.show()"
   ]
  },
  {
   "cell_type": "code",
   "execution_count": 5,
   "id": "1de2561a",
   "metadata": {},
   "outputs": [
    {
     "data": {
      "text/plain": [
       "373"
      ]
     },
     "execution_count": 5,
     "metadata": {},
     "output_type": "execute_result"
    }
   ],
   "source": [
    "# Create a new dataframe with only the 'Close column \n",
    "data = df1.filter(['Close'])\n",
    "# Convert the dataframe to a numpy array\n",
    "dataset = data.values\n",
    "# Get the number of rows to train the model on\n",
    "training_data_len = int(np.ceil( len(dataset) * .90 ))\n",
    "\n",
    "training_data_len"
   ]
  },
  {
   "cell_type": "code",
   "execution_count": 6,
   "id": "3d8e726b",
   "metadata": {},
   "outputs": [],
   "source": [
    "# Scale the data\n",
    "from sklearn.preprocessing import MinMaxScaler\n",
    "\n",
    "scaler = MinMaxScaler(feature_range=(0,1))\n",
    "scaled_data = scaler.fit_transform(dataset)\n",
    "\n",
    "#scaled_data"
   ]
  },
  {
   "cell_type": "code",
   "execution_count": 7,
   "id": "78622108",
   "metadata": {},
   "outputs": [
    {
     "name": "stdout",
     "output_type": "stream",
     "text": [
      "[array([0.01242269, 0.04755236, 0.04088282, 0.04663597, 0.03673343,\n",
      "       0.02179059, 0.        , 0.01967775, 0.01695391, 0.03716622,\n",
      "       0.03767538, 0.02599086, 0.04928344, 0.06473536, 0.05269458,\n",
      "       0.0631062 , 0.07430696, 0.08212206, 0.09003893, 0.10630555,\n",
      "       0.11872824, 0.10956395, 0.09999236, 0.10480363, 0.10014509,\n",
      "       0.11860091, 0.11396792, 0.1294708 , 0.12341219, 0.12860529,\n",
      "       0.12310672, 0.12661963, 0.12697605, 0.12618691, 0.13614034,\n",
      "       0.1399333 , 0.14446452, 0.13733679, 0.16070565, 0.16569507,\n",
      "       0.19250055, 0.2150294 , 0.17190641, 0.17928872, 0.18995492,\n",
      "       0.21309469, 0.21184736, 0.21220378, 0.20708704, 0.23037954,\n",
      "       0.24987908, 0.23340885, 0.24557696, 0.21704047, 0.23778734,\n",
      "       0.24547511, 0.24371862, 0.24371862, 0.26851311, 0.26556017])]\n",
      "[0.2876562255530384]\n",
      "\n",
      "[array([0.01242269, 0.04755236, 0.04088282, 0.04663597, 0.03673343,\n",
      "       0.02179059, 0.        , 0.01967775, 0.01695391, 0.03716622,\n",
      "       0.03767538, 0.02599086, 0.04928344, 0.06473536, 0.05269458,\n",
      "       0.0631062 , 0.07430696, 0.08212206, 0.09003893, 0.10630555,\n",
      "       0.11872824, 0.10956395, 0.09999236, 0.10480363, 0.10014509,\n",
      "       0.11860091, 0.11396792, 0.1294708 , 0.12341219, 0.12860529,\n",
      "       0.12310672, 0.12661963, 0.12697605, 0.12618691, 0.13614034,\n",
      "       0.1399333 , 0.14446452, 0.13733679, 0.16070565, 0.16569507,\n",
      "       0.19250055, 0.2150294 , 0.17190641, 0.17928872, 0.18995492,\n",
      "       0.21309469, 0.21184736, 0.21220378, 0.20708704, 0.23037954,\n",
      "       0.24987908, 0.23340885, 0.24557696, 0.21704047, 0.23778734,\n",
      "       0.24547511, 0.24371862, 0.24371862, 0.26851311, 0.26556017]), array([0.04755236, 0.04088282, 0.04663597, 0.03673343, 0.02179059,\n",
      "       0.        , 0.01967775, 0.01695391, 0.03716622, 0.03767538,\n",
      "       0.02599086, 0.04928344, 0.06473536, 0.05269458, 0.0631062 ,\n",
      "       0.07430696, 0.08212206, 0.09003893, 0.10630555, 0.11872824,\n",
      "       0.10956395, 0.09999236, 0.10480363, 0.10014509, 0.11860091,\n",
      "       0.11396792, 0.1294708 , 0.12341219, 0.12860529, 0.12310672,\n",
      "       0.12661963, 0.12697605, 0.12618691, 0.13614034, 0.1399333 ,\n",
      "       0.14446452, 0.13733679, 0.16070565, 0.16569507, 0.19250055,\n",
      "       0.2150294 , 0.17190641, 0.17928872, 0.18995492, 0.21309469,\n",
      "       0.21184736, 0.21220378, 0.20708704, 0.23037954, 0.24987908,\n",
      "       0.23340885, 0.24557696, 0.21704047, 0.23778734, 0.24547511,\n",
      "       0.24371862, 0.24371862, 0.26851311, 0.26556017, 0.28765623])]\n",
      "[0.2876562255530384, 0.2918310965585359]\n",
      "\n"
     ]
    }
   ],
   "source": [
    "# Create the training data set \n",
    "# Create the scaled training data set\n",
    "train_data = scaled_data[0:int(training_data_len), :]\n",
    "# Split the data into x_train and y_train data sets\n",
    "x_train = []\n",
    "y_train = []\n",
    "\n",
    "for i in range(60, len(train_data)):\n",
    "    x_train.append(train_data[i-60:i, 0])\n",
    "    y_train.append(train_data[i, 0])\n",
    "    if i<= 61:\n",
    "        print(x_train)\n",
    "        print(y_train)\n",
    "        print()\n",
    "        \n",
    "# Convert the x_train and y_train to numpy arrays \n",
    "x_train, y_train = np.array(x_train), np.array(y_train)\n",
    "\n",
    "# Reshape the data\n",
    "x_train = np.reshape(x_train, (x_train.shape[0], x_train.shape[1], 1))\n",
    "# x_train.shape"
   ]
  },
  {
   "cell_type": "code",
   "execution_count": 8,
   "id": "f960a9e7",
   "metadata": {},
   "outputs": [
    {
     "name": "stdout",
     "output_type": "stream",
     "text": [
      "Epoch 1/3\n",
      "313/313 [==============================] - 8s 19ms/step - loss: 0.0067\n",
      "Epoch 2/3\n",
      "313/313 [==============================] - 6s 18ms/step - loss: 0.0028\n",
      "Epoch 3/3\n",
      "313/313 [==============================] - 5s 17ms/step - loss: 0.0028\n"
     ]
    },
    {
     "data": {
      "text/plain": [
       "<keras.callbacks.History at 0x29dd22354f0>"
      ]
     },
     "execution_count": 8,
     "metadata": {},
     "output_type": "execute_result"
    }
   ],
   "source": [
    "from tensorflow import keras\n",
    "from keras.models import Sequential\n",
    "from keras.layers import Dense, LSTM\n",
    "\n",
    "# Build the LSTM model\n",
    "model = Sequential()\n",
    "model.add(LSTM(128, return_sequences=True, input_shape= (x_train.shape[1], 1)))\n",
    "model.add(LSTM(64, return_sequences=False))\n",
    "model.add(Dense(50))\n",
    "model.add(Dense(1))\n",
    "\n",
    "# Compile the model\n",
    "model.compile(optimizer='adam', loss='mean_squared_error')\n",
    "\n",
    "# Train the model\n",
    "model.fit(x_train, y_train, batch_size=1, epochs=3)"
   ]
  },
  {
   "cell_type": "code",
   "execution_count": 9,
   "id": "8e2863e2",
   "metadata": {},
   "outputs": [
    {
     "data": {
      "text/plain": [
       "6.657197852047409"
      ]
     },
     "execution_count": 9,
     "metadata": {},
     "output_type": "execute_result"
    }
   ],
   "source": [
    "# Create the testing data set\n",
    "# Create a new array containing scaled values from index 1543 to 2002 \n",
    "test_data = scaled_data[training_data_len - 60: , :]\n",
    "# Create the data sets x_test and y_test\n",
    "x_test = []\n",
    "y_test = dataset[training_data_len:, :]\n",
    "for i in range(60, len(test_data)):\n",
    "    x_test.append(test_data[i-60:i, 0])\n",
    "    \n",
    "# Convert the data to a numpy array\n",
    "x_test = np.array(x_test)\n",
    "\n",
    "# Reshape the data\n",
    "x_test = np.reshape(x_test, (x_test.shape[0], x_test.shape[1], 1 ))\n",
    "\n",
    "# Get the models predicted price values \n",
    "predictions = model.predict(x_test)\n",
    "predictions = scaler.inverse_transform(predictions)\n",
    "predictions = predictions\n",
    "\n",
    "# Get the root mean squared error (RMSE)\n",
    "rmse = np.sqrt(np.mean(((predictions - y_test) ** 2)))\n",
    "rmse"
   ]
  },
  {
   "cell_type": "code",
   "execution_count": 10,
   "id": "7c4fe758",
   "metadata": {},
   "outputs": [
    {
     "name": "stderr",
     "output_type": "stream",
     "text": [
      "<ipython-input-10-af49d9aa9436>:4: SettingWithCopyWarning: \n",
      "A value is trying to be set on a copy of a slice from a DataFrame.\n",
      "Try using .loc[row_indexer,col_indexer] = value instead\n",
      "\n",
      "See the caveats in the documentation: https://pandas.pydata.org/pandas-docs/stable/user_guide/indexing.html#returning-a-view-versus-a-copy\n",
      "  valid['Predictions'] = predictions*1.05\n"
     ]
    },
    {
     "data": {
      "image/png": "[encoded data removed]",
      "text/plain": [
       "<Figure size 1152x432 with 1 Axes>"
      ]
     },
     "metadata": {
      "needs_background": "light"
     },
     "output_type": "display_data"
    }
   ],
   "source": [
    "# Plot the data\n",
    "train = data[:training_data_len]\n",
    "valid = data[training_data_len:]\n",
    "valid['Predictions'] = predictions\n",
    "# Visualize the data\n",
    "plt.figure(figsize=(16,6))\n",
    "plt.title('Model')\n",
    "plt.xlabel('Date', fontsize=18)\n",
    "plt.ylabel('Close Price USD ($)', fontsize=18)\n",
    "plt.plot(train['Close'])\n",
    "plt.plot(valid[['Close', 'Predictions']])\n",
    "plt.legend(['Train', 'Val', 'Predictions'], loc='lower right')\n",
    "plt.show()"
   ]
  },
  {
   "cell_type": "code",
   "execution_count": 11,
   "id": "07408b72",
   "metadata": {},
   "outputs": [
    {
     "data": {
      "text/html": [
       "<div>\n",
       "<style scoped>\n",
       "    .dataframe tbody tr th:only-of-type {\n",
       "        vertical-align: middle;\n",
       "    }\n",
       "\n",
       "    .dataframe tbody tr th {\n",
       "        vertical-align: top;\n",
       "    }\n",
       "\n",
       "    .dataframe thead th {\n",
       "        text-align: right;\n",
       "    }\n",
       "</style>\n",
       "<table border=\"1\" class=\"dataframe\">\n",
       "  <thead>\n",
       "    <tr style=\"text-align: right;\">\n",
       "      <th></th>\n",
       "      <th>Close</th>\n",
       "      <th>Predictions</th>\n",
       "    </tr>\n",
       "    <tr>\n",
       "      <th>Date</th>\n",
       "      <th></th>\n",
       "      <th></th>\n",
       "    </tr>\n",
       "  </thead>\n",
       "  <tbody>\n",
       "    <tr>\n",
       "      <th>2021-10-04</th>\n",
       "      <td>139.139999</td>\n",
       "      <td>145.673889</td>\n",
       "    </tr>\n",
       "    <tr>\n",
       "      <th>2021-10-05</th>\n",
       "      <td>141.110001</td>\n",
       "      <td>144.667648</td>\n",
       "    </tr>\n",
       "    <tr>\n",
       "      <th>2021-10-06</th>\n",
       "      <td>142.000000</td>\n",
       "      <td>144.081879</td>\n",
       "    </tr>\n",
       "    <tr>\n",
       "      <th>2021-10-07</th>\n",
       "      <td>143.289993</td>\n",
       "      <td>143.958694</td>\n",
       "    </tr>\n",
       "    <tr>\n",
       "      <th>2021-10-08</th>\n",
       "      <td>142.899994</td>\n",
       "      <td>144.327057</td>\n",
       "    </tr>\n",
       "  </tbody>\n",
       "</table>\n",
       "</div>"
      ],
      "text/plain": [
       "                 Close  Predictions\n",
       "Date                               \n",
       "2021-10-04  139.139999   145.673889\n",
       "2021-10-05  141.110001   144.667648\n",
       "2021-10-06  142.000000   144.081879\n",
       "2021-10-07  143.289993   143.958694\n",
       "2021-10-08  142.899994   144.327057"
      ]
     },
     "execution_count": 11,
     "metadata": {},
     "output_type": "execute_result"
    }
   ],
   "source": [
    "# Show the valid and predicted prices\n",
    "valid.head()"
   ]
  }
 ],
 "metadata": {
  "kernelspec": {
   "display_name": "Python 3",
   "language": "python",
   "name": "python3"
  },
  "language_info": {
   "codemirror_mode": {
    "name": "ipython",
    "version": 3
   },
   "file_extension": ".py",
   "mimetype": "text/x-python",
   "name": "python",
   "nbconvert_exporter": "python",
   "pygments_lexer": "ipython3",
   "version": "3.8.8"
  }
 },
 "nbformat": 4,
 "nbformat_minor": 5
}
